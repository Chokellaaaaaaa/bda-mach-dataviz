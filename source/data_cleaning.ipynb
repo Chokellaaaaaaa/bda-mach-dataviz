{
 "cells": [
  {
   "cell_type": "markdown",
   "id": "618ff4a6",
   "metadata": {},
   "source": [
    "# Data Cleaning"
   ]
  },
  {
   "cell_type": "code",
   "execution_count": 4,
   "id": "977e0dd9",
   "metadata": {},
   "outputs": [],
   "source": [
    "from pyspark.sql import SparkSession\n",
    "\n",
    "spark = SparkSession.builder\\\n",
    "    .master(\"local[*]\")\\\n",
    "    .appName(\"Accident\")\\\n",
    "    .config(\"spark.driver.memory\", \"4g\") \\\n",
    "    .getOrCreate()\n",
    "\n",
    "spark.sparkContext.setLogLevel(\"ERROR\")"
   ]
  },
  {
   "cell_type": "code",
   "execution_count": 5,
   "id": "0dd3b847",
   "metadata": {},
   "outputs": [
    {
     "name": "stderr",
     "output_type": "stream",
     "text": [
      "                                                                                \r"
     ]
    },
    {
     "name": "stdout",
     "output_type": "stream",
     "text": [
      "+---+-------+--------+-------------------+-------------------+-----------------+------------------+-------+-------+------------+-------------------------------------------------------------------------------------+-------------------------+------------+----------+-----+----------+-------+----------+------------+-------------------+--------------+-------------+-----------+------------+--------------+--------------+---------------+-----------------+-----------------+-------+-----+--------+--------+--------+-------+-------+----------+-------+-----+---------------+--------------+------------+--------------+--------------+-----------------+---------------------+\n",
      "|ID |Source |Severity|Start_Time         |End_Time           |Start_Lat        |Start_Lng         |End_Lat|End_Lng|Distance(mi)|Description                                                                          |Street                   |City        |County    |State|Zipcode   |Country|Timezone  |Airport_Code|Weather_Timestamp  |Temperature(F)|Wind_Chill(F)|Humidity(%)|Pressure(in)|Visibility(mi)|Wind_Direction|Wind_Speed(mph)|Precipitation(in)|Weather_Condition|Amenity|Bump |Crossing|Give_Way|Junction|No_Exit|Railway|Roundabout|Station|Stop |Traffic_Calming|Traffic_Signal|Turning_Loop|Sunrise_Sunset|Civil_Twilight|Nautical_Twilight|Astronomical_Twilight|\n",
      "+---+-------+--------+-------------------+-------------------+-----------------+------------------+-------+-------+------------+-------------------------------------------------------------------------------------+-------------------------+------------+----------+-----+----------+-------+----------+------------+-------------------+--------------+-------------+-----------+------------+--------------+--------------+---------------+-----------------+-----------------+-------+-----+--------+--------+--------+-------+-------+----------+-------+-----+---------------+--------------+------------+--------------+--------------+-----------------+---------------------+\n",
      "|A-1|Source2|3       |2016-02-08 05:46:00|2016-02-08 11:00:00|39.865147        |-84.058723        |NULL   |NULL   |0.01        |Right lane blocked due to accident on I-70 Eastbound at Exit 41 OH-235 State Route 4.|I-70 E                   |Dayton      |Montgomery|OH   |45424     |US     |US/Eastern|KFFO        |2016-02-08 05:58:00|36.9          |NULL         |91.0       |29.68       |10.0          |Calm          |NULL           |0.02             |Light Rain       |false  |false|false   |false   |false   |false  |false  |false     |false  |false|false          |false         |false       |Night         |Night         |Night            |Night                |\n",
      "|A-2|Source2|2       |2016-02-08 06:07:59|2016-02-08 06:37:59|39.92805900000001|-82.831184        |NULL   |NULL   |0.01        |Accident on Brice Rd at Tussing Rd. Expect delays.                                   |Brice Rd                 |Reynoldsburg|Franklin  |OH   |43068-3402|US     |US/Eastern|KCMH        |2016-02-08 05:51:00|37.9          |NULL         |100.0      |29.65       |10.0          |Calm          |NULL           |0.0              |Light Rain       |false  |false|false   |false   |false   |false  |false  |false     |false  |false|false          |false         |false       |Night         |Night         |Night            |Day                  |\n",
      "|A-3|Source2|2       |2016-02-08 06:49:27|2016-02-08 07:19:27|39.063148        |-84.032608        |NULL   |NULL   |0.01        |Accident on OH-32 State Route 32 Westbound at Dela Palma Rd. Expect delays.          |State Route 32           |Williamsburg|Clermont  |OH   |45176     |US     |US/Eastern|KI69        |2016-02-08 06:56:00|36.0          |33.3         |100.0      |29.67       |10.0          |SW            |3.5            |NULL             |Overcast         |false  |false|false   |false   |false   |false  |false  |false     |false  |false|false          |true          |false       |Night         |Night         |Day              |Day                  |\n",
      "|A-4|Source2|3       |2016-02-08 07:23:34|2016-02-08 07:53:34|39.747753        |-84.20558199999998|NULL   |NULL   |0.01        |Accident on I-75 Southbound at Exits 52 52B US-35. Expect delays.                    |I-75 S                   |Dayton      |Montgomery|OH   |45417     |US     |US/Eastern|KDAY        |2016-02-08 07:38:00|35.1          |31.0         |96.0       |29.64       |9.0           |SW            |4.6            |NULL             |Mostly Cloudy    |false  |false|false   |false   |false   |false  |false  |false     |false  |false|false          |false         |false       |Night         |Day           |Day              |Day                  |\n",
      "|A-5|Source2|2       |2016-02-08 07:39:07|2016-02-08 08:09:07|39.627781        |-84.188354        |NULL   |NULL   |0.01        |Accident on McEwen Rd at OH-725 Miamisburg Centerville Rd. Expect delays.            |Miamisburg Centerville Rd|Dayton      |Montgomery|OH   |45459     |US     |US/Eastern|KMGY        |2016-02-08 07:53:00|36.0          |33.3         |89.0       |29.65       |6.0           |SW            |3.5            |NULL             |Mostly Cloudy    |false  |false|false   |false   |false   |false  |false  |false     |false  |false|false          |true          |false       |Day           |Day           |Day              |Day                  |\n",
      "+---+-------+--------+-------------------+-------------------+-----------------+------------------+-------+-------+------------+-------------------------------------------------------------------------------------+-------------------------+------------+----------+-----+----------+-------+----------+------------+-------------------+--------------+-------------+-----------+------------+--------------+--------------+---------------+-----------------+-----------------+-------+-----+--------+--------+--------+-------+-------+----------+-------+-----+---------------+--------------+------------+--------------+--------------+-----------------+---------------------+\n",
      "only showing top 5 rows\n",
      "\n"
     ]
    }
   ],
   "source": [
    "data = spark.read.csv(\"../data/US_Accidents_March23.csv\", header=True, inferSchema=True)\n",
    "data.show(5, truncate=False)"
   ]
  },
  {
   "cell_type": "code",
   "execution_count": 6,
   "id": "be69feae",
   "metadata": {},
   "outputs": [
    {
     "name": "stdout",
     "output_type": "stream",
     "text": [
      "root\n",
      " |-- ID: string (nullable = true)\n",
      " |-- Source: string (nullable = true)\n",
      " |-- Severity: integer (nullable = true)\n",
      " |-- Start_Time: timestamp (nullable = true)\n",
      " |-- End_Time: timestamp (nullable = true)\n",
      " |-- Start_Lat: double (nullable = true)\n",
      " |-- Start_Lng: double (nullable = true)\n",
      " |-- End_Lat: double (nullable = true)\n",
      " |-- End_Lng: double (nullable = true)\n",
      " |-- Distance(mi): double (nullable = true)\n",
      " |-- Description: string (nullable = true)\n",
      " |-- Street: string (nullable = true)\n",
      " |-- City: string (nullable = true)\n",
      " |-- County: string (nullable = true)\n",
      " |-- State: string (nullable = true)\n",
      " |-- Zipcode: string (nullable = true)\n",
      " |-- Country: string (nullable = true)\n",
      " |-- Timezone: string (nullable = true)\n",
      " |-- Airport_Code: string (nullable = true)\n",
      " |-- Weather_Timestamp: timestamp (nullable = true)\n",
      " |-- Temperature(F): double (nullable = true)\n",
      " |-- Wind_Chill(F): double (nullable = true)\n",
      " |-- Humidity(%): double (nullable = true)\n",
      " |-- Pressure(in): double (nullable = true)\n",
      " |-- Visibility(mi): double (nullable = true)\n",
      " |-- Wind_Direction: string (nullable = true)\n",
      " |-- Wind_Speed(mph): double (nullable = true)\n",
      " |-- Precipitation(in): double (nullable = true)\n",
      " |-- Weather_Condition: string (nullable = true)\n",
      " |-- Amenity: boolean (nullable = true)\n",
      " |-- Bump: boolean (nullable = true)\n",
      " |-- Crossing: boolean (nullable = true)\n",
      " |-- Give_Way: boolean (nullable = true)\n",
      " |-- Junction: boolean (nullable = true)\n",
      " |-- No_Exit: boolean (nullable = true)\n",
      " |-- Railway: boolean (nullable = true)\n",
      " |-- Roundabout: boolean (nullable = true)\n",
      " |-- Station: boolean (nullable = true)\n",
      " |-- Stop: boolean (nullable = true)\n",
      " |-- Traffic_Calming: boolean (nullable = true)\n",
      " |-- Traffic_Signal: boolean (nullable = true)\n",
      " |-- Turning_Loop: boolean (nullable = true)\n",
      " |-- Sunrise_Sunset: string (nullable = true)\n",
      " |-- Civil_Twilight: string (nullable = true)\n",
      " |-- Nautical_Twilight: string (nullable = true)\n",
      " |-- Astronomical_Twilight: string (nullable = true)\n",
      "\n"
     ]
    }
   ],
   "source": [
    "data.printSchema()"
   ]
  },
  {
   "cell_type": "markdown",
   "id": "795e21d3",
   "metadata": {},
   "source": [
    "## Drop Useless Columns"
   ]
  },
  {
   "cell_type": "code",
   "execution_count": 7,
   "id": "ff27de56",
   "metadata": {},
   "outputs": [],
   "source": [
    "columns_to_drop = [\n",
    "    \"ID\",\n",
    "    \"Source\",\n",
    "    \"Description\",\n",
    "    \"Street\",\n",
    "    \"Zipcode\",\n",
    "    \"Airport_Code\",\n",
    "    \"End_Lat\",\n",
    "    \"End_Lng\",\n",
    "    \"Country\",\n",
    "    \"Timezone\",\n",
    "    \"Weather_Timestamp\"\n",
    "]\n"
   ]
  },
  {
   "cell_type": "code",
   "execution_count": 8,
   "id": "d556bbc4",
   "metadata": {},
   "outputs": [],
   "source": [
    "data = data.drop(*columns_to_drop)"
   ]
  },
  {
   "cell_type": "markdown",
   "id": "64945acc",
   "metadata": {},
   "source": [
    "## Handle String columns"
   ]
  },
  {
   "cell_type": "code",
   "execution_count": 9,
   "id": "a5a65f3f",
   "metadata": {},
   "outputs": [],
   "source": [
    "columns_to_encode = [\n",
    "    \"Sunrise_Sunset\",\n",
    "    \"Civil_Twilight\",\n",
    "    \"Nautical_Twilight\",\n",
    "    \"Astronomical_Twilight\",\n",
    "    \"Weather_Condition\",\n",
    "    \"Wind_Direction\",\n",
    "    \"State\",\n",
    "    \"City\"\n",
    "]"
   ]
  },
  {
   "cell_type": "code",
   "execution_count": 10,
   "id": "dfb74897",
   "metadata": {},
   "outputs": [
    {
     "name": "stderr",
     "output_type": "stream",
     "text": [
      "                                                                                \r"
     ]
    }
   ],
   "source": [
    "from pyspark.ml import Pipeline\n",
    "from pyspark.ml.feature import StringIndexer, OneHotEncoder\n",
    "\n",
    "indexers = [StringIndexer(inputCol=col, outputCol=col + \"_indexed\", handleInvalid='keep') for col in columns_to_encode]\n",
    "encoders = [OneHotEncoder(inputCol=col + \"_indexed\", outputCol=col + \"_encoded\") for col in columns_to_encode]\n",
    "\n",
    "pipeline = Pipeline(stages=indexers + encoders)\n",
    "model = pipeline.fit(data)\n",
    "data = model.transform(data)\n"
   ]
  },
  {
   "cell_type": "code",
   "execution_count": 11,
   "id": "b042116a",
   "metadata": {},
   "outputs": [],
   "source": [
    "from pyspark.sql.functions import col\n",
    "\n",
    "boolean_columns = [col for col in data.columns if data.select(col).dtypes[0][1] == 'boolean']\n",
    "\n",
    "for col_name in boolean_columns:\n",
    "    data = data.withColumn(col_name, col(col_name).cast(\"integer\"))"
   ]
  },
  {
   "cell_type": "markdown",
   "id": "59c7839e",
   "metadata": {},
   "source": [
    "## NaN or NULL"
   ]
  },
  {
   "cell_type": "markdown",
   "id": "492cfe4a",
   "metadata": {},
   "source": [
    "On calcule le pourcentage de NULL ou NaN values pour chaque colonne pour etre sur que ca ne soit pas majoritaire"
   ]
  },
  {
   "cell_type": "code",
   "execution_count": 12,
   "id": "fad039e1",
   "metadata": {},
   "outputs": [
    {
     "name": "stderr",
     "output_type": "stream",
     "text": [
      "[Stage 30:=====================================================>  (22 + 1) / 23]\r"
     ]
    },
    {
     "name": "stdout",
     "output_type": "stream",
     "text": [
      "+--------+----------+--------+---------+---------+------------+--------------------+------+-----+--------------------+-------------------+-------------------+-------------------+--------------------+--------------------+-------------------+------------------+-------------------+-------+----+--------+--------+--------+-------+-------+----------+-------+----+---------------+--------------+------------+--------------------+--------------------+--------------------+---------------------+----------------------+----------------------+-------------------------+-----------------------------+-------------------------+----------------------+-------------+------------+----------------------+----------------------+-------------------------+-----------------------------+-------------------------+----------------------+-------------+------------+\n",
      "|Severity|Start_Time|End_Time|Start_Lat|Start_Lng|Distance(mi)|                City|County|State|      Temperature(F)|      Wind_Chill(F)|        Humidity(%)|       Pressure(in)|      Visibility(mi)|      Wind_Direction|    Wind_Speed(mph)| Precipitation(in)|  Weather_Condition|Amenity|Bump|Crossing|Give_Way|Junction|No_Exit|Railway|Roundabout|Station|Stop|Traffic_Calming|Traffic_Signal|Turning_Loop|      Sunrise_Sunset|      Civil_Twilight|   Nautical_Twilight|Astronomical_Twilight|Sunrise_Sunset_indexed|Civil_Twilight_indexed|Nautical_Twilight_indexed|Astronomical_Twilight_indexed|Weather_Condition_indexed|Wind_Direction_indexed|State_indexed|City_indexed|Sunrise_Sunset_encoded|Civil_Twilight_encoded|Nautical_Twilight_encoded|Astronomical_Twilight_encoded|Weather_Condition_encoded|Wind_Direction_encoded|State_encoded|City_encoded|\n",
      "+--------+----------+--------+---------+---------+------------+--------------------+------+-----+--------------------+-------------------+-------------------+-------------------+--------------------+--------------------+-------------------+------------------+-------------------+-------+----+--------+--------+--------+-------+-------+----------+-------+----+---------------+--------------+------------+--------------------+--------------------+--------------------+---------------------+----------------------+----------------------+-------------------------+-----------------------------+-------------------------+----------------------+-------------+------------+----------------------+----------------------+-------------------------+-----------------------------+-------------------------+----------------------+-------------+------------+\n",
      "|     0.0|       0.0|     0.0|      0.0|      0.0|         0.0|3.273642622257612...|   0.0|  0.0|0.021201429430228326|0.25865904352184943|0.02253301268025414|0.01820287630263157|0.022915239569825243|0.022670428034595545|0.07391354529802699|0.2851285791071211|0.02244437848277404|    0.0| 0.0|     0.0|     0.0|     0.0|    0.0|    0.0|       0.0|    0.0| 0.0|            0.0|           0.0|         0.0|0.003007869422806...|0.003007869422806...|0.003007869422806...| 0.003007869422806...|                   0.0|                   0.0|                      0.0|                          0.0|                      0.0|                   0.0|          0.0|         0.0|                   0.0|                   0.0|                      0.0|                          0.0|                      0.0|                   0.0|          0.0|         0.0|\n",
      "+--------+----------+--------+---------+---------+------------+--------------------+------+-----+--------------------+-------------------+-------------------+-------------------+--------------------+--------------------+-------------------+------------------+-------------------+-------+----+--------+--------+--------+-------+-------+----------+-------+----+---------------+--------------+------------+--------------------+--------------------+--------------------+---------------------+----------------------+----------------------+-------------------------+-----------------------------+-------------------------+----------------------+-------------+------------+----------------------+----------------------+-------------------------+-----------------------------+-------------------------+----------------------+-------------+------------+\n",
      "\n"
     ]
    },
    {
     "name": "stderr",
     "output_type": "stream",
     "text": [
      "                                                                                \r"
     ]
    }
   ],
   "source": [
    "from pyspark.sql.functions import col, isnan, when, count\n",
    "\n",
    "total_rows = data.count()\n",
    "\n",
    "col_type_dict = dict(data.dtypes)\n",
    "\n",
    "missing_df = data.select([\n",
    "    (\n",
    "        count(\n",
    "            when(\n",
    "                (col(c).isNull() | isnan(c)) if col_type_dict[c] in [\"double\", \"float\"] else col(c).isNull(),\n",
    "                c\n",
    "            )\n",
    "        ) / total_rows\n",
    "    ).alias(c)\n",
    "    for c in data.columns\n",
    "])\n",
    "\n",
    "missing_df.show()\n"
   ]
  },
  {
   "cell_type": "code",
   "execution_count": 13,
   "id": "57aac59a",
   "metadata": {},
   "outputs": [
    {
     "name": "stderr",
     "output_type": "stream",
     "text": [
      "                                                                                \r"
     ]
    }
   ],
   "source": [
    "numeric_cols = [f.name for f in data.schema.fields if f.dataType.simpleString() in [\"double\", \"integer\"]]\n",
    "\n",
    "for col_name in numeric_cols:\n",
    "    median_val = data.approxQuantile(col_name, [0.5], 0.01)[0]\n",
    "    data = data.fillna({col_name: median_val})"
   ]
  },
  {
   "cell_type": "code",
   "execution_count": 14,
   "id": "381a0792",
   "metadata": {},
   "outputs": [],
   "source": [
    "categorical_cols = [f.name for f in data.schema.fields if f.dataType.simpleString() == \"string\"]\n",
    "\n",
    "data = data.fillna({col_name: \"Unknown\" for col_name in categorical_cols})"
   ]
  },
  {
   "cell_type": "code",
   "execution_count": 15,
   "id": "e600051a",
   "metadata": {},
   "outputs": [
    {
     "name": "stdout",
     "output_type": "stream",
     "text": [
      "+--------+-------------------+-------------------+-----------------+------------------+------------+------------+----------+-----+--------------+-------------+-----------+------------+--------------+--------------+---------------+-----------------+-----------------+-------+----+--------+--------+--------+-------+-------+----------+-------+----+---------------+--------------+------------+--------------+--------------+-----------------+---------------------+----------------------+----------------------+-------------------------+-----------------------------+-------------------------+----------------------+-------------+------------+----------------------+----------------------+-------------------------+-----------------------------+-------------------------+----------------------+---------------+--------------------+\n",
      "|Severity|Start_Time         |End_Time           |Start_Lat        |Start_Lng         |Distance(mi)|City        |County    |State|Temperature(F)|Wind_Chill(F)|Humidity(%)|Pressure(in)|Visibility(mi)|Wind_Direction|Wind_Speed(mph)|Precipitation(in)|Weather_Condition|Amenity|Bump|Crossing|Give_Way|Junction|No_Exit|Railway|Roundabout|Station|Stop|Traffic_Calming|Traffic_Signal|Turning_Loop|Sunrise_Sunset|Civil_Twilight|Nautical_Twilight|Astronomical_Twilight|Sunrise_Sunset_indexed|Civil_Twilight_indexed|Nautical_Twilight_indexed|Astronomical_Twilight_indexed|Weather_Condition_indexed|Wind_Direction_indexed|State_indexed|City_indexed|Sunrise_Sunset_encoded|Civil_Twilight_encoded|Nautical_Twilight_encoded|Astronomical_Twilight_encoded|Weather_Condition_encoded|Wind_Direction_encoded|State_encoded  |City_encoded        |\n",
      "+--------+-------------------+-------------------+-----------------+------------------+------------+------------+----------+-----+--------------+-------------+-----------+------------+--------------+--------------+---------------+-----------------+-----------------+-------+----+--------+--------+--------+-------+-------+----------+-------+----+---------------+--------------+------------+--------------+--------------+-----------------+---------------------+----------------------+----------------------+-------------------------+-----------------------------+-------------------------+----------------------+-------------+------------+----------------------+----------------------+-------------------------+-----------------------------+-------------------------+----------------------+---------------+--------------------+\n",
      "|3       |2016-02-08 05:46:00|2016-02-08 11:00:00|39.865147        |-84.058723        |0.01        |Dayton      |Montgomery|OH   |36.9          |62.0         |91.0       |29.68       |10.0          |Calm          |7.0            |0.02             |Light Rain       |0      |0   |0       |0       |0       |0      |0      |0         |0      |0   |0              |0             |0           |Night         |Night         |Night            |Night                |1.0                   |1.0                   |1.0                      |1.0                          |6.0                      |6.0                   |18.0         |40.0        |(2,[1],[1.0])         |(2,[1],[1.0])         |(2,[1],[1.0])            |(2,[1],[1.0])                |(144,[6],[1.0])          |(24,[6],[1.0])        |(49,[18],[1.0])|(13678,[40],[1.0])  |\n",
      "|2       |2016-02-08 06:07:59|2016-02-08 06:37:59|39.92805900000001|-82.831184        |0.01        |Reynoldsburg|Franklin  |OH   |37.9          |62.0         |100.0      |29.65       |10.0          |Calm          |7.0            |0.0              |Light Rain       |0      |0   |0       |0       |0       |0      |0      |0         |0      |0   |0              |0             |0           |Night         |Night         |Night            |Day                  |1.0                   |1.0                   |1.0                      |0.0                          |6.0                      |6.0                   |18.0         |2061.0      |(2,[1],[1.0])         |(2,[1],[1.0])         |(2,[1],[1.0])            |(2,[0],[1.0])                |(144,[6],[1.0])          |(24,[6],[1.0])        |(49,[18],[1.0])|(13678,[2061],[1.0])|\n",
      "|2       |2016-02-08 06:49:27|2016-02-08 07:19:27|39.063148        |-84.032608        |0.01        |Williamsburg|Clermont  |OH   |36.0          |33.3         |100.0      |29.67       |10.0          |SW            |3.5            |0.0              |Overcast         |0      |0   |0       |0       |0       |0      |0      |0         |0      |0   |0              |1             |0           |Night         |Night         |Day              |Day                  |1.0                   |1.0                   |0.0                      |0.0                          |5.0                      |7.0                   |18.0         |420.0       |(2,[1],[1.0])         |(2,[1],[1.0])         |(2,[0],[1.0])            |(2,[0],[1.0])                |(144,[5],[1.0])          |(24,[7],[1.0])        |(49,[18],[1.0])|(13678,[420],[1.0]) |\n",
      "|3       |2016-02-08 07:23:34|2016-02-08 07:53:34|39.747753        |-84.20558199999998|0.01        |Dayton      |Montgomery|OH   |35.1          |31.0         |96.0       |29.64       |9.0           |SW            |4.6            |0.0              |Mostly Cloudy    |0      |0   |0       |0       |0       |0      |0      |0         |0      |0   |0              |0             |0           |Night         |Day           |Day              |Day                  |1.0                   |0.0                   |0.0                      |0.0                          |1.0                      |7.0                   |18.0         |40.0        |(2,[1],[1.0])         |(2,[0],[1.0])         |(2,[0],[1.0])            |(2,[0],[1.0])                |(144,[1],[1.0])          |(24,[7],[1.0])        |(49,[18],[1.0])|(13678,[40],[1.0])  |\n",
      "|2       |2016-02-08 07:39:07|2016-02-08 08:09:07|39.627781        |-84.188354        |0.01        |Dayton      |Montgomery|OH   |36.0          |33.3         |89.0       |29.65       |6.0           |SW            |3.5            |0.0              |Mostly Cloudy    |0      |0   |0       |0       |0       |0      |0      |0         |0      |0   |0              |1             |0           |Day           |Day           |Day              |Day                  |0.0                   |0.0                   |0.0                      |0.0                          |1.0                      |7.0                   |18.0         |40.0        |(2,[0],[1.0])         |(2,[0],[1.0])         |(2,[0],[1.0])            |(2,[0],[1.0])                |(144,[1],[1.0])          |(24,[7],[1.0])        |(49,[18],[1.0])|(13678,[40],[1.0])  |\n",
      "+--------+-------------------+-------------------+-----------------+------------------+------------+------------+----------+-----+--------------+-------------+-----------+------------+--------------+--------------+---------------+-----------------+-----------------+-------+----+--------+--------+--------+-------+-------+----------+-------+----+---------------+--------------+------------+--------------+--------------+-----------------+---------------------+----------------------+----------------------+-------------------------+-----------------------------+-------------------------+----------------------+-------------+------------+----------------------+----------------------+-------------------------+-----------------------------+-------------------------+----------------------+---------------+--------------------+\n",
      "only showing top 5 rows\n",
      "\n"
     ]
    }
   ],
   "source": [
    "data.show(5, truncate=False)"
   ]
  },
  {
   "cell_type": "code",
   "execution_count": 17,
   "id": "351b3c80",
   "metadata": {},
   "outputs": [
    {
     "name": "stderr",
     "output_type": "stream",
     "text": [
      "                                                                                \r"
     ]
    }
   ],
   "source": [
    "data.write.mode(\"overwrite\").parquet(\"../data/processed_accidents.parquet\")\n"
   ]
  },
  {
   "cell_type": "code",
   "execution_count": 18,
   "id": "0432408b",
   "metadata": {},
   "outputs": [],
   "source": [
    "spark.stop()"
   ]
  }
 ],
 "metadata": {
  "kernelspec": {
   "display_name": ".env",
   "language": "python",
   "name": "python3"
  },
  "language_info": {
   "codemirror_mode": {
    "name": "ipython",
    "version": 3
   },
   "file_extension": ".py",
   "mimetype": "text/x-python",
   "name": "python",
   "nbconvert_exporter": "python",
   "pygments_lexer": "ipython3",
   "version": "3.12.9"
  }
 },
 "nbformat": 4,
 "nbformat_minor": 5
}
