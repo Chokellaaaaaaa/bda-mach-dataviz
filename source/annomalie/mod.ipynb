{
 "cells": [
  {
   "cell_type": "markdown",
   "id": "c82456b3",
   "metadata": {},
   "source": [
    "# Détection automatique d’accidents anormaux à partir de données météorologiques, temporelles et spatiales\n",
    "\n",
    "Ce notebook présente une analyse exploratoire et une détection d'anomalies sur les accidents de la route aux États-Unis, en utilisant des données météorologiques, temporelles et spatiales. Nous utilisons Spark pour le traitement des données volumineuses, puis des techniques de machine learning pour la détection d'accidents atypiques."
   ]
  },
  {
   "cell_type": "markdown",
   "id": "1e800de0",
   "metadata": {},
   "source": [
    "## 1. Import des librairies et initialisation Spark\n",
    "\n",
    "Nous importons les librairies nécessaires pour le traitement, la visualisation et le machine learning."
   ]
  },
  {
   "cell_type": "code",
   "execution_count": null,
   "id": "5d8ba9d7",
   "metadata": {},
   "outputs": [],
   "source": [
    "from pyspark.sql import SparkSession\n",
    "from pyspark.sql.functions import hour, dayofweek, month, col, when\n",
    "from sklearn.preprocessing import StandardScaler\n",
    "import pandas as pd\n",
    "from pyspark.ml.feature import VectorAssembler\n",
    "from sklearn.ensemble import IsolationForest\n",
    "import seaborn as sns\n",
    "import matplotlib.pyplot as plt"
   ]
  },
  {
   "cell_type": "code",
   "execution_count": null,
   "id": "0e154602",
   "metadata": {},
   "outputs": [],
   "source": [
    "spark = SparkSession.builder\\\n",
    "    .master(\"local[*]\")\\\n",
    "    .appName(\"Accident\")\\\n",
    "    .config(\"spark.driver.memory\", \"8g\") \\\n",
    "    .config(\"spark.executor.memory\", \"8g\") \\\n",
    "    .config(\"spark.driver.maxResultSize\", \"4g\") \\\n",
    "    .getOrCreate()\n",
    "spark.sparkContext.setLogLevel(\"ERROR\")"
   ]
  },
  {
   "cell_type": "markdown",
   "id": "552e9455",
   "metadata": {},
   "source": [
    "## 2. Chargement des données\n",
    "\n",
    "Lecture des données d'accidents depuis un fichier Parquet prétraité."
   ]
  },
  {
   "cell_type": "code",
   "execution_count": null,
   "id": "f105f3bb",
   "metadata": {},
   "outputs": [],
   "source": [
    "data = spark.read.parquet(\"../../data/processed_accidents.parquet\")\n",
    "data.show(5, truncate=False)"
   ]
  },
  {
   "cell_type": "markdown",
   "id": "9b787b1f",
   "metadata": {},
   "source": [
    "## 3. Prétraitement des données\n",
    "\n",
    "Affichage du schéma et sélection des colonnes pertinentes pour l'analyse."
   ]
  },
  {
   "cell_type": "code",
   "execution_count": null,
   "id": "19be54fd",
   "metadata": {},
   "outputs": [],
   "source": [
    "data.printSchema()"
   ]
  },
  {
   "cell_type": "code",
   "execution_count": null,
   "id": "f9dce728",
   "metadata": {},
   "outputs": [],
   "source": [
    "colonnes_utiles = [\n",
    "    \"Severity\", \"Start_Time\", \"Distance(mi)\", \"Temperature(F)\", \"Humidity(%)\",\n",
    "    \"Wind_Speed(mph)\", \"Visibility(mi)\", \"Weather_Condition\", \"Sunrise_Sunset\", \"Start_Lat\", \"Start_Lng\"]\n",
    "data_reduit = data.select(*colonnes_utiles)\n",
    "data_sample = data_reduit.sample(fraction=0.1, seed=42)\n",
    "df = data_sample.toPandas()"
   ]
  },
  {
   "cell_type": "markdown",
   "id": "a63226fb",
   "metadata": {},
   "source": [
    "## 4. Analyse exploratoire et visualisations\n",
    "\n",
    "Quelques visualisations pour mieux comprendre la distribution des accidents selon la gravité, le temps, la météo et la localisation."
   ]
  },
  {
   "cell_type": "code",
   "execution_count": null,
   "id": "c4f766ad68c665e5",
   "metadata": {},
   "outputs": [],
   "source": [
    "import plotly.express as px\n",
    "\n",
    "# Échantillonnage si dataset très grand\n",
    "sample_df = df[[\"Start_Lat\", \"Start_Lng\", \"Severity\"]].dropna().sample(n=10000, random_state=42)\n",
    "\n",
    "fig = px.scatter_mapbox(\n",
    "    sample_df,\n",
    "    lat=\"Start_Lat\",\n",
    "    lon=\"Start_Lng\",\n",
    "    color=\"Severity\",\n",
    "    color_continuous_scale=\"OrRd\",\n",
    "    zoom=3,\n",
    "    height=600,\n",
    "    title=\"Accidents de la route par gravité - USA\"\n",
    ")\n",
    "\n",
    "fig.update_layout(mapbox_style=\"open-street-map\")\n",
    "fig.update_layout(margin={\"r\":0,\"t\":50,\"l\":0,\"b\":0})\n",
    "fig.show()\n"
   ]
  },
  {
   "cell_type": "code",
   "execution_count": null,
   "id": "922cfb41042c750",
   "metadata": {},
   "outputs": [],
   "source": [
    "import folium\n",
    "from folium.plugins import MarkerCluster\n",
    "\n",
    "# Échantillonnage si dataset volumineux\n",
    "sample_df = df[[\"Start_Lat\", \"Start_Lng\", \"Severity\"]].dropna().sample(n=5000, random_state=42)\n",
    "\n",
    "# Création d'une carte centrée sur les US\n",
    "m = folium.Map(location=[37.0902, -95.7129], zoom_start=4, tiles=\"CartoDB positron\")\n",
    "\n",
    "# Ajout de clusters\n",
    "marker_cluster = MarkerCluster().add_to(m)\n",
    "\n",
    "# Ajout des marqueurs\n",
    "for _, row in sample_df.iterrows():\n",
    "    folium.Marker(\n",
    "        location=[row[\"Start_Lat\"], row[\"Start_Lng\"]],\n",
    "        popup=f\"Gravité : {row['Severity']}\",\n",
    "        icon=folium.Icon(color=\"red\" if row[\"Severity\"] >= 3 else \"orange\")\n",
    "    ).add_to(marker_cluster)\n",
    "\n",
    "# Affichage de la carte\n",
    "m\n"
   ]
  },
  {
   "cell_type": "code",
   "execution_count": null,
   "id": "e8c2ef9e",
   "metadata": {},
   "outputs": [],
   "source": [
    "import plotly.express as px\n",
    "fig = px.histogram(df, x='Severity', nbins=4, title='Distribution de la gravité des accidents (Severity)',\n",
    "                   labels={'Severity': 'Gravité (1=faible, 4=grave)'})\n",
    "fig.show()"
   ]
  },
  {
   "cell_type": "code",
   "execution_count": null,
   "id": "bac10ff7",
   "metadata": {},
   "outputs": [],
   "source": [
    "# 3. Accidents par jour de la semaine\n",
    "df['DayOfWeek'] = pd.to_datetime(df['Start_Time']).dt.dayofweek\n",
    "jours = ['Lun', 'Mar', 'Mer', 'Jeu', 'Ven', 'Sam', 'Dim']\n",
    "plt.figure(figsize=(10, 5))\n",
    "sns.countplot(x=df['DayOfWeek'], palette='Set2')\n",
    "plt.xticks(ticks=range(7), labels=jours)\n",
    "plt.title(\"Répartition des accidents par jour de la semaine\")\n",
    "plt.xlabel(\"Jour\")\n",
    "plt.ylabel(\"Nombre d'accidents\")\n",
    "plt.tight_layout()\n",
    "plt.show()"
   ]
  },
  {
   "cell_type": "code",
   "execution_count": null,
   "id": "fb5630e0",
   "metadata": {},
   "outputs": [],
   "source": [
    "# 4. Conditions météo\n",
    "top_weather = df['Weather_Condition'].value_counts().nlargest(10)\n",
    "plt.figure(figsize=(10, 5))\n",
    "sns.barplot(x=top_weather.values, y=top_weather.index, palette=\"coolwarm\")\n",
    "plt.title(\"Top 10 des conditions météo lors des accidents\")\n",
    "plt.xlabel(\"Nombre d'accidents\")\n",
    "plt.ylabel(\"Condition météo\")\n",
    "plt.tight_layout()\n",
    "plt.show()"
   ]
  },
  {
   "cell_type": "code",
   "execution_count": null,
   "id": "9886d4fa",
   "metadata": {},
   "outputs": [],
   "source": [
    "# 5. Température vs gravité\n",
    "plt.figure(figsize=(10, 5))\n",
    "sns.boxplot(data=df, x='Severity', y='Temperature(F)', palette='pastel')\n",
    "plt.title(\"Distribution des températures selon la gravité des accidents\")\n",
    "plt.xlabel(\"Gravité\")\n",
    "plt.ylabel(\"Température (°F)\")\n",
    "plt.tight_layout()\n",
    "plt.show()"
   ]
  },
  {
   "cell_type": "markdown",
   "id": "d6db548f",
   "metadata": {},
   "source": [
    "### Corrélations entre variables numériques\n",
    "\n",
    "Analyse de la corrélation entre la gravité des accidents et les autres variables numériques."
   ]
  },
  {
   "cell_type": "code",
   "execution_count": null,
   "id": "b378faf9",
   "metadata": {},
   "outputs": [],
   "source": [
    "numerical_cols = ['Severity', 'Distance(mi)', 'Temperature(F)', 'Wind_Chill(F)', 'Humidity(%)',\n",
    "                  'Pressure(in)', 'Visibility(mi)', 'Wind_Speed(mph)', 'Precipitation(in)']\n",
    "df_corr = data.select(numerical_cols).toPandas()\n",
    "corr_matrix = df_corr[numerical_cols].corr()\n",
    "plt.figure(figsize=(8, 6))\n",
    "sns.barplot(x=corr_matrix['Severity'].drop('Severity').abs().sort_values(ascending=False),\n",
    "            y=corr_matrix['Severity'].drop('Severity').abs().sort_values(ascending=False).index)\n",
    "plt.title(\"Corrélation absolue avec la gravité des accidents (Severity)\")\n",
    "plt.xlabel(\"Corrélation absolue\")\n",
    "plt.tight_layout()\n",
    "plt.show()\n",
    "plt.figure(figsize=(10, 8))\n",
    "sns.heatmap(corr_matrix, annot=True, cmap=\"coolwarm\", fmt=\".2f\")\n",
    "plt.title(\"Matrice de corrélation – Variables numériques\")\n",
    "plt.tight_layout()\n",
    "plt.show()"
   ]
  },
  {
   "cell_type": "markdown",
   "id": "b31a32c1",
   "metadata": {},
   "source": [
    "## 5. Détection d'anomalies avec Isolation Forest\n",
    "\n",
    "Nous utilisons l'algorithme Isolation Forest pour détecter les accidents atypiques en fonction de variables météorologiques, temporelles et spatiales."
   ]
  },
  {
   "cell_type": "code",
   "execution_count": null,
   "id": "3236e3260c4b5330",
   "metadata": {},
   "outputs": [],
   "source": [
    "df_sample = data.sample(fraction=0.5, seed=42).toPandas()\n",
    "features = [\n",
    "    'Distance(mi)', 'Temperature(F)', 'Wind_Chill(F)', 'Humidity(%)',\n",
    "    'Pressure(in)', 'Visibility(mi)', 'Wind_Speed(mph)', 'Precipitation(in)',\n",
    "    'Sunrise_Sunset_indexed', 'Civil_Twilight_indexed', 'Nautical_Twilight_indexed',\n",
    "    'Astronomical_Twilight_indexed', 'Weather_Condition_indexed',\n",
    "    'Wind_Direction_indexed', 'State_indexed', 'City_indexed'\n",
    "]\n",
    "scaler = StandardScaler()\n",
    "X_scaled = scaler.fit_transform(df_sample[features])\n",
    "model = IsolationForest(n_estimators=100, contamination=0.01, random_state=42)\n",
    "df_sample['anomaly_score'] = model.fit_predict(X_scaled)\n",
    "df_sample['is_anomaly'] = (df_sample['anomaly_score'] == -1).astype(int)\n",
    "print(df_sample['is_anomaly'].value_counts())\n"
   ]
  },
  {
   "cell_type": "code",
   "execution_count": null,
   "id": "50d4a804a14763ec",
   "metadata": {},
   "outputs": [],
   "source": [
    "df_sample['Start_Time'] = pd.to_datetime(df_sample['Start_Time'])\n",
    "df_sample['hour'] = df_sample['Start_Time'].dt.hour\n",
    "plt.figure(figsize=(8, 4))\n",
    "sns.countplot(data=df_sample, x='hour', hue='is_anomaly')\n",
    "plt.title(\"Anomalies détectées par heure\")\n",
    "plt.xlabel(\"Heure\")\n",
    "plt.ylabel(\"Nombre d'accidents\")\n",
    "plt.legend(title=\"Anomalie\")\n",
    "plt.tight_layout()\n",
    "plt.show()"
   ]
  },
  {
   "cell_type": "code",
   "execution_count": null,
   "id": "823bea8d",
   "metadata": {},
   "outputs": [],
   "source": [
    "plt.figure(figsize=(6, 4))\n",
    "sns.boxplot(data=df_sample, x='is_anomaly', y='Severity')\n",
    "plt.title(\"Gravité (Severity) selon anomalie détectée\")\n",
    "plt.xlabel(\"Anomalie (1=oui)\")\n",
    "plt.ylabel(\"Gravité\")\n",
    "plt.tight_layout()\n",
    "plt.show()"
   ]
  },
  {
   "cell_type": "markdown",
   "id": "309f6094",
   "metadata": {},
   "source": [
    "### Interprétation des résultats\n",
    "\n",
    "- La distribution des anomalies détectées par heure permet d'identifier des périodes atypiques.\n",
    "- La gravité des accidents détectés comme anomalies est comparée à celle des cas normaux pour mieux comprendre leur impact."
   ]
  }
 ],
 "metadata": {
  "kernelspec": {
   "display_name": "base",
   "language": "python",
   "name": "python3"
  },
  "language_info": {
   "codemirror_mode": {
    "name": "ipython",
    "version": 3
   },
   "file_extension": ".py",
   "mimetype": "text/x-python",
   "name": "python",
   "nbconvert_exporter": "python",
   "pygments_lexer": "ipython3",
   "version": "3.12.2"
  }
 },
 "nbformat": 4,
 "nbformat_minor": 5
}
