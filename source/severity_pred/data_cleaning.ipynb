{
 "cells": [
  {
   "cell_type": "code",
   "execution_count": 14,
   "id": "977e0dd9",
   "metadata": {},
   "outputs": [],
   "source": [
    "from pyspark.sql import SparkSession\n",
    "\n",
    "spark = SparkSession.builder\\\n",
    "    .master(\"local[*]\")\\\n",
    "    .appName(\"Accident\")\\\n",
    "    .config(\"spark.driver.memory\", \"4g\") \\\n",
    "    .getOrCreate()\n",
    "\n",
    "spark.sparkContext.setLogLevel(\"ERROR\")"
   ]
  },
  {
   "cell_type": "code",
   "execution_count": 15,
   "id": "0dd3b847",
   "metadata": {},
   "outputs": [
    {
     "name": "stderr",
     "output_type": "stream",
     "text": [
      "[Stage 1:====================================================>    (21 + 2) / 23]\r"
     ]
    },
    {
     "name": "stdout",
     "output_type": "stream",
     "text": [
      "+---+-------+--------+-------------------+-------------------+-----------------+------------------+-------+-------+------------+-------------------------------------------------------------------------------------+-------------------------+------------+----------+-----+----------+-------+----------+------------+-------------------+--------------+-------------+-----------+------------+--------------+--------------+---------------+-----------------+-----------------+-------+-----+--------+--------+--------+-------+-------+----------+-------+-----+---------------+--------------+------------+--------------+--------------+-----------------+---------------------+\n",
      "|ID |Source |Severity|Start_Time         |End_Time           |Start_Lat        |Start_Lng         |End_Lat|End_Lng|Distance(mi)|Description                                                                          |Street                   |City        |County    |State|Zipcode   |Country|Timezone  |Airport_Code|Weather_Timestamp  |Temperature(F)|Wind_Chill(F)|Humidity(%)|Pressure(in)|Visibility(mi)|Wind_Direction|Wind_Speed(mph)|Precipitation(in)|Weather_Condition|Amenity|Bump |Crossing|Give_Way|Junction|No_Exit|Railway|Roundabout|Station|Stop |Traffic_Calming|Traffic_Signal|Turning_Loop|Sunrise_Sunset|Civil_Twilight|Nautical_Twilight|Astronomical_Twilight|\n",
      "+---+-------+--------+-------------------+-------------------+-----------------+------------------+-------+-------+------------+-------------------------------------------------------------------------------------+-------------------------+------------+----------+-----+----------+-------+----------+------------+-------------------+--------------+-------------+-----------+------------+--------------+--------------+---------------+-----------------+-----------------+-------+-----+--------+--------+--------+-------+-------+----------+-------+-----+---------------+--------------+------------+--------------+--------------+-----------------+---------------------+\n",
      "|A-1|Source2|3       |2016-02-08 05:46:00|2016-02-08 11:00:00|39.865147        |-84.058723        |NULL   |NULL   |0.01        |Right lane blocked due to accident on I-70 Eastbound at Exit 41 OH-235 State Route 4.|I-70 E                   |Dayton      |Montgomery|OH   |45424     |US     |US/Eastern|KFFO        |2016-02-08 05:58:00|36.9          |NULL         |91.0       |29.68       |10.0          |Calm          |NULL           |0.02             |Light Rain       |false  |false|false   |false   |false   |false  |false  |false     |false  |false|false          |false         |false       |Night         |Night         |Night            |Night                |\n",
      "|A-2|Source2|2       |2016-02-08 06:07:59|2016-02-08 06:37:59|39.92805900000001|-82.831184        |NULL   |NULL   |0.01        |Accident on Brice Rd at Tussing Rd. Expect delays.                                   |Brice Rd                 |Reynoldsburg|Franklin  |OH   |43068-3402|US     |US/Eastern|KCMH        |2016-02-08 05:51:00|37.9          |NULL         |100.0      |29.65       |10.0          |Calm          |NULL           |0.0              |Light Rain       |false  |false|false   |false   |false   |false  |false  |false     |false  |false|false          |false         |false       |Night         |Night         |Night            |Day                  |\n",
      "|A-3|Source2|2       |2016-02-08 06:49:27|2016-02-08 07:19:27|39.063148        |-84.032608        |NULL   |NULL   |0.01        |Accident on OH-32 State Route 32 Westbound at Dela Palma Rd. Expect delays.          |State Route 32           |Williamsburg|Clermont  |OH   |45176     |US     |US/Eastern|KI69        |2016-02-08 06:56:00|36.0          |33.3         |100.0      |29.67       |10.0          |SW            |3.5            |NULL             |Overcast         |false  |false|false   |false   |false   |false  |false  |false     |false  |false|false          |true          |false       |Night         |Night         |Day              |Day                  |\n",
      "|A-4|Source2|3       |2016-02-08 07:23:34|2016-02-08 07:53:34|39.747753        |-84.20558199999998|NULL   |NULL   |0.01        |Accident on I-75 Southbound at Exits 52 52B US-35. Expect delays.                    |I-75 S                   |Dayton      |Montgomery|OH   |45417     |US     |US/Eastern|KDAY        |2016-02-08 07:38:00|35.1          |31.0         |96.0       |29.64       |9.0           |SW            |4.6            |NULL             |Mostly Cloudy    |false  |false|false   |false   |false   |false  |false  |false     |false  |false|false          |false         |false       |Night         |Day           |Day              |Day                  |\n",
      "|A-5|Source2|2       |2016-02-08 07:39:07|2016-02-08 08:09:07|39.627781        |-84.188354        |NULL   |NULL   |0.01        |Accident on McEwen Rd at OH-725 Miamisburg Centerville Rd. Expect delays.            |Miamisburg Centerville Rd|Dayton      |Montgomery|OH   |45459     |US     |US/Eastern|KMGY        |2016-02-08 07:53:00|36.0          |33.3         |89.0       |29.65       |6.0           |SW            |3.5            |NULL             |Mostly Cloudy    |false  |false|false   |false   |false   |false  |false  |false     |false  |false|false          |true          |false       |Day           |Day           |Day              |Day                  |\n",
      "+---+-------+--------+-------------------+-------------------+-----------------+------------------+-------+-------+------------+-------------------------------------------------------------------------------------+-------------------------+------------+----------+-----+----------+-------+----------+------------+-------------------+--------------+-------------+-----------+------------+--------------+--------------+---------------+-----------------+-----------------+-------+-----+--------+--------+--------+-------+-------+----------+-------+-----+---------------+--------------+------------+--------------+--------------+-----------------+---------------------+\n",
      "only showing top 5 rows\n",
      "\n"
     ]
    },
    {
     "name": "stderr",
     "output_type": "stream",
     "text": [
      "                                                                                \r"
     ]
    }
   ],
   "source": [
    "data = spark.read.csv(\"../../data/US_Accidents_March23.csv\", header=True, inferSchema=True)\n",
    "data.show(5, truncate=False)"
   ]
  },
  {
   "cell_type": "code",
   "execution_count": 16,
   "id": "be69feae",
   "metadata": {},
   "outputs": [
    {
     "name": "stdout",
     "output_type": "stream",
     "text": [
      "root\n",
      " |-- ID: string (nullable = true)\n",
      " |-- Source: string (nullable = true)\n",
      " |-- Severity: integer (nullable = true)\n",
      " |-- Start_Time: timestamp (nullable = true)\n",
      " |-- End_Time: timestamp (nullable = true)\n",
      " |-- Start_Lat: double (nullable = true)\n",
      " |-- Start_Lng: double (nullable = true)\n",
      " |-- End_Lat: double (nullable = true)\n",
      " |-- End_Lng: double (nullable = true)\n",
      " |-- Distance(mi): double (nullable = true)\n",
      " |-- Description: string (nullable = true)\n",
      " |-- Street: string (nullable = true)\n",
      " |-- City: string (nullable = true)\n",
      " |-- County: string (nullable = true)\n",
      " |-- State: string (nullable = true)\n",
      " |-- Zipcode: string (nullable = true)\n",
      " |-- Country: string (nullable = true)\n",
      " |-- Timezone: string (nullable = true)\n",
      " |-- Airport_Code: string (nullable = true)\n",
      " |-- Weather_Timestamp: timestamp (nullable = true)\n",
      " |-- Temperature(F): double (nullable = true)\n",
      " |-- Wind_Chill(F): double (nullable = true)\n",
      " |-- Humidity(%): double (nullable = true)\n",
      " |-- Pressure(in): double (nullable = true)\n",
      " |-- Visibility(mi): double (nullable = true)\n",
      " |-- Wind_Direction: string (nullable = true)\n",
      " |-- Wind_Speed(mph): double (nullable = true)\n",
      " |-- Precipitation(in): double (nullable = true)\n",
      " |-- Weather_Condition: string (nullable = true)\n",
      " |-- Amenity: boolean (nullable = true)\n",
      " |-- Bump: boolean (nullable = true)\n",
      " |-- Crossing: boolean (nullable = true)\n",
      " |-- Give_Way: boolean (nullable = true)\n",
      " |-- Junction: boolean (nullable = true)\n",
      " |-- No_Exit: boolean (nullable = true)\n",
      " |-- Railway: boolean (nullable = true)\n",
      " |-- Roundabout: boolean (nullable = true)\n",
      " |-- Station: boolean (nullable = true)\n",
      " |-- Stop: boolean (nullable = true)\n",
      " |-- Traffic_Calming: boolean (nullable = true)\n",
      " |-- Traffic_Signal: boolean (nullable = true)\n",
      " |-- Turning_Loop: boolean (nullable = true)\n",
      " |-- Sunrise_Sunset: string (nullable = true)\n",
      " |-- Civil_Twilight: string (nullable = true)\n",
      " |-- Nautical_Twilight: string (nullable = true)\n",
      " |-- Astronomical_Twilight: string (nullable = true)\n",
      "\n"
     ]
    }
   ],
   "source": [
    "data.printSchema()"
   ]
  },
  {
   "cell_type": "code",
   "execution_count": 12,
   "id": "ff27de56",
   "metadata": {},
   "outputs": [],
   "source": [
    "columns_to_drop = [\n",
    "    \"ID\",\n",
    "    \"Source\",\n",
    "    \"Description\",\n",
    "    \"Street\",\n",
    "    \"Zipcode\",\n",
    "    # \"Airport_Code\",\n",
    "]"
   ]
  },
  {
   "cell_type": "code",
   "execution_count": 17,
   "id": "10b8fe4d",
   "metadata": {},
   "outputs": [],
   "source": [
    "for column in columns_to_drop:\n",
    "    if column in data.columns:\n",
    "        data = data.drop(column)\n"
   ]
  },
  {
   "cell_type": "code",
   "execution_count": 13,
   "id": "a5a65f3f",
   "metadata": {},
   "outputs": [],
   "source": [
    "columns_to_encode = [\n",
    "    \"Sunrise_Sunset\",\n",
    "    \"Civil_Twilight\",\n",
    "    \"Nautical_Twilight\",\n",
    "    \"Astronomical_Twilight\"\n",
    "]"
   ]
  },
  {
   "cell_type": "code",
   "execution_count": 6,
   "id": "e1e55424",
   "metadata": {},
   "outputs": [
    {
     "name": "stderr",
     "output_type": "stream",
     "text": [
      "                                                                                \r"
     ]
    },
    {
     "data": {
      "text/plain": [
       "7728394"
      ]
     },
     "execution_count": 6,
     "metadata": {},
     "output_type": "execute_result"
    }
   ],
   "source": [
    "data.count()"
   ]
  },
  {
   "cell_type": "code",
   "execution_count": 9,
   "id": "0fa1f4f5",
   "metadata": {},
   "outputs": [
    {
     "name": "stderr",
     "output_type": "stream",
     "text": [
      "[Stage 7:======================================================>  (22 + 1) / 23]\r"
     ]
    },
    {
     "name": "stdout",
     "output_type": "stream",
     "text": [
      "+-------+--------+-------+------------------+-----------------+------------------+-----------------+------------------+------------------+--------------------+------------------+----------+---------+-------+------------------+-------+----------+------------+------------------+-----------------+------------------+------------------+-----------------+--------------+-----------------+--------------------+------------------+--------------+--------------+-----------------+---------------------+\n",
      "|summary|      ID| Source|          Severity|        Start_Lat|         Start_Lng|          End_Lat|           End_Lng|      Distance(mi)|         Description|            Street|      City|   County|  State|           Zipcode|Country|  Timezone|Airport_Code|    Temperature(F)|    Wind_Chill(F)|       Humidity(%)|      Pressure(in)|   Visibility(mi)|Wind_Direction|  Wind_Speed(mph)|   Precipitation(in)| Weather_Condition|Sunrise_Sunset|Civil_Twilight|Nautical_Twilight|Astronomical_Twilight|\n",
      "+-------+--------+-------+------------------+-----------------+------------------+-----------------+------------------+------------------+--------------------+------------------+----------+---------+-------+------------------+-------+----------+------------+------------------+-----------------+------------------+------------------+-----------------+--------------+-----------------+--------------------+------------------+--------------+--------------+-----------------+---------------------+\n",
      "|  count| 7728394|7728394|           7728394|          7728394|           7728394|          4325632|           4325632|           7728394|             7728389|           7717525|   7728141|  7728394|7728394|           7726479|7728394|   7720586|     7705759|           7564541|          5729375|           7554250|           7587715|          7551296|       7553188|          7157161|             5524808|           7554935|       7705148|       7705148|          7705148|              7705148|\n",
      "|   mean|    NULL|   NULL| 2.212384487643875|36.20119454946952|-94.70254538794683|36.26182889161967|-95.72557026006884|0.5618422831523706|  1096.6666666666667|59.833333333333336|      NULL|     NULL|   NULL| 56844.61091225678|   NULL|      NULL|        NULL| 61.66328580940991|58.25104839533092| 64.83104146672403|29.538985607656194|9.090376447963413|          NULL|7.685489595665597|0.008407209807109432|              NULL|          NULL|          NULL|             NULL|                 NULL|\n",
      "| stddev|    NULL|   NULL|0.4875313339360398|5.076079113874013| 17.39175625334916|5.272904539384689| 18.10792763629359|1.7768106031970923|  171.95146900305244|113.85139982862685|      NULL|     NULL|   NULL|30960.037231397473|   NULL|      NULL|        NULL|19.013653291093142| 22.3898317496207|22.820967660113475|  1.00618980914562| 2.68831592141714|          NULL|5.424983437161068| 0.11022464885795538|              NULL|          NULL|          NULL|             NULL|                 NULL|\n",
      "|    min|     A-1|Source1|                 1|          24.5548|       -124.623833|        24.566013|       -124.545748|               0.0| 1039 GOLDEN BEAR...|         1 1/2 Ave|Aaronsburg|Abbeville|     AL|             01001|     US|US/Central|        K01M|             -89.0|            -89.0|               1.0|               0.0|              0.0|          CALM|              0.0|                 0.0|      Blowing Dust|           Day|           Day|              Day|                  Day|\n",
      "|    max|A-999999|Source3|                 4|        49.002201|        -67.113167|           49.075|-67.10924200000001|            441.75| VEHICLE CRASH I7...|  william Carey Dr|   Zwingle|  Ziebach|     WY|             99403|     US|US/Pacific|        KZZV|             207.0|            207.0|             100.0|             58.63|            140.0|          West|           1087.0|               36.47|Wintry Mix / Windy|         Night|         Night|            Night|                Night|\n",
      "+-------+--------+-------+------------------+-----------------+------------------+-----------------+------------------+------------------+--------------------+------------------+----------+---------+-------+------------------+-------+----------+------------+------------------+-----------------+------------------+------------------+-----------------+--------------+-----------------+--------------------+------------------+--------------+--------------+-----------------+---------------------+\n",
      "\n"
     ]
    },
    {
     "name": "stderr",
     "output_type": "stream",
     "text": [
      "                                                                                \r"
     ]
    }
   ],
   "source": [
    "data.describe().show()"
   ]
  },
  {
   "cell_type": "code",
   "execution_count": 10,
   "id": "0432408b",
   "metadata": {},
   "outputs": [],
   "source": [
    "spark.stop()"
   ]
  }
 ],
 "metadata": {
  "kernelspec": {
   "display_name": ".env",
   "language": "python",
   "name": "python3"
  },
  "language_info": {
   "codemirror_mode": {
    "name": "ipython",
    "version": 3
   },
   "file_extension": ".py",
   "mimetype": "text/x-python",
   "name": "python",
   "nbconvert_exporter": "python",
   "pygments_lexer": "ipython3",
   "version": "3.12.9"
  }
 },
 "nbformat": 4,
 "nbformat_minor": 5
}
